{
 "cells": [
  {
   "cell_type": "code",
   "execution_count": 1,
   "id": "18f06b48",
   "metadata": {},
   "outputs": [
    {
     "name": "stdout",
     "output_type": "stream",
     "text": [
      "Hello World!\n"
     ]
    }
   ],
   "source": [
    "print('Hello World!')"
   ]
  },
  {
   "cell_type": "code",
   "execution_count": 5,
   "id": "538224a4",
   "metadata": {},
   "outputs": [
    {
     "name": "stdout",
     "output_type": "stream",
     "text": [
      "X= 7\n"
     ]
    }
   ],
   "source": [
    "A=3\n",
    "B=4\n",
    "X=A+B\n",
    "print(\"X=\",X)"
   ]
  },
  {
   "cell_type": "code",
   "execution_count": 8,
   "id": "b551a2f7",
   "metadata": {},
   "outputs": [
    {
     "name": "stdout",
     "output_type": "stream",
     "text": [
      "4\n",
      "A=50.2654\n"
     ]
    }
   ],
   "source": [
    "R = float(input());\n",
    "R = R*R*3.14159;\n",
    "print(\"A=%.4f\" % R);\n"
   ]
  },
  {
   "cell_type": "code",
   "execution_count": 9,
   "id": "b01bbf62",
   "metadata": {},
   "outputs": [
    {
     "name": "stdout",
     "output_type": "stream",
     "text": [
      "5\n",
      "6\n",
      "SOMA = 11\n"
     ]
    }
   ],
   "source": [
    "A = int(input())\n",
    "B = int(input())\n",
    "\n",
    "soma = A + B\n",
    "\n",
    "print(\"SOMA = %d\" %soma)"
   ]
  },
  {
   "cell_type": "code",
   "execution_count": null,
   "id": "a1a2c15c",
   "metadata": {},
   "outputs": [],
   "source": [
    "A = int(input());\n",
    "B = int(input());\n",
    "PROD = A * B;\n",
    "print(\"PROD = %d\"%PROD);\n",
    "\n",
    "                                                                                                                            "
   ]
  },
  {
   "cell_type": "code",
   "execution_count": null,
   "id": "50b69d5a",
   "metadata": {},
   "outputs": [],
   "source": [
    "A = float(input());\n",
    "B = float(input());\n",
    "MEDIA = (A*3.5 + B*7.5)/(3.5+7.5);\n",
    "print(\"MEDIA = %.5f\"%MEDIA);"
   ]
  },
  {
   "cell_type": "code",
   "execution_count": null,
   "id": "580e24cd",
   "metadata": {},
   "outputs": [],
   "source": [
    "A = float(input());\n",
    "B = float(input());\n",
    "C = float(input());\n",
    "MEDIA = (A*2 + B*3 + C*5)/(2+3+5);\n",
    "print(\"MEDIA = %.1f\"%MEDIA);"
   ]
  },
  {
   "cell_type": "code",
   "execution_count": null,
   "id": "c2ee57b8",
   "metadata": {},
   "outputs": [],
   "source": [
    "A = int(input());\n",
    "B = int(input());\n",
    "C = int(input());\n",
    "D = int(input());\n",
    "DIFERENCA = (A*B - C*D);\n",
    "print(\"DIFERENCA = %d\"%DIFERENCA);"
   ]
  },
  {
   "cell_type": "code",
   "execution_count": null,
   "id": "5c11fb59",
   "metadata": {},
   "outputs": [],
   "source": [
    "EmployeeNumber = int(input());\n",
    "WorkHours = int(input());\n",
    "Price = float(input());\n",
    "Salary = WorkHours * Price;\n",
    "print(\"NUMBER = %d\"%EmployeeNumber);\n",
    "print(\"SALARY = U$ %.2f\"%Salary);"
   ]
  },
  {
   "cell_type": "code",
   "execution_count": null,
   "id": "ebf46387",
   "metadata": {},
   "outputs": [],
   "source": [
    "n = int(input())\n",
    "total = (4/3.0*3.14159*n*n*n)\n",
    "print(\"VOLUME = %0.3f\"%total)"
   ]
  },
  {
   "cell_type": "code",
   "execution_count": null,
   "id": "76973462",
   "metadata": {},
   "outputs": [],
   "source": [
    "X = int(input());\n",
    "Y = float(input());\n",
    "X = X/Y;\n",
    "print(\"%.3f km/l\"%X);\n"
   ]
  },
  {
   "cell_type": "code",
   "execution_count": null,
   "id": "d3b5567f",
   "metadata": {},
   "outputs": [],
   "source": [
    "import math\n",
    "x1,y1 = map(float, input().split());\n",
    "x2,y2 = map(float, input().split());\n",
    "x1 = math.sqrt((x2-x1)**2 + (y2-y1)**2);\n",
    "print(\"%.4f\"%x1);\n"
   ]
  },
  {
   "cell_type": "code",
   "execution_count": null,
   "id": "0de8886f",
   "metadata": {},
   "outputs": [],
   "source": [
    "H = int(input());\n",
    "S = int(input());\n",
    "L = float((H*S)/12);\n",
    "print(\"%.3f\"%L);"
   ]
  },
  {
   "cell_type": "code",
   "execution_count": null,
   "id": "8095e1ad",
   "metadata": {},
   "outputs": [],
   "source": [
    "S = int(input())\n",
    "H = int(S/(60*60))\n",
    "S = S%(60*60)\n",
    "M = int(S/60)\n",
    "S = S%60\n",
    "print(\"%d:%d:%d\"%(H,M,S))\n"
   ]
  },
  {
   "cell_type": "code",
   "execution_count": null,
   "id": "7d901972",
   "metadata": {},
   "outputs": [],
   "source": [
    "A,B,C,D = map(int,input().split())\n",
    "if B>C and D>A:\n",
    "    if C+D>A+B:\n",
    "        if C>=0 and D>=0:\n",
    "            if A%2==0:\n",
    "                print(\"Valores aceitos\")\n",
    "            else:\n",
    "                print(\"Valores nao aceitos\")\n",
    "        else:\n",
    "            print(\"Valores nao aceitos\")\n",
    "    else:\n",
    "        print(\"Valores nao aceitos\")\n",
    "else:\n",
    "    print(\"Valores nao aceitos\")\n"
   ]
  },
  {
   "cell_type": "code",
   "execution_count": null,
   "id": "ddd1ef04",
   "metadata": {},
   "outputs": [],
   "source": []
  }
 ],
 "metadata": {
  "kernelspec": {
   "display_name": "Python 3 (ipykernel)",
   "language": "python",
   "name": "python3"
  },
  "language_info": {
   "codemirror_mode": {
    "name": "ipython",
    "version": 3
   },
   "file_extension": ".py",
   "mimetype": "text/x-python",
   "name": "python",
   "nbconvert_exporter": "python",
   "pygments_lexer": "ipython3",
   "version": "3.10.7"
  }
 },
 "nbformat": 4,
 "nbformat_minor": 5
}
